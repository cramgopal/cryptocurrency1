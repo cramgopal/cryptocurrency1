{
 "cells": [
  {
   "cell_type": "markdown",
   "id": "9ece4a67-d9aa-4a1c-8565-15038b963464",
   "metadata": {},
   "source": [
    "GENERAL GIST:\n",
    "Online discourse surrounding bitcoin over time \n",
    "Relative to price how has discourse changed over time — price * volume since bitcoin is always mining \n",
    "Looking at twitter over ten years and aggregating tweets by month per year and measuring how often people tweeted about it, the volume of tweets, the level of engagement with it as well as try to get insight into the sentiment surrounding it) \n",
    "USE: Search tweets (filtering for tweets with bitcoin in it of a 1% representative sample), tweet count of total tweets with bitcoin per month , determine virality by looking at impressions, retweets, quoted and likes\n",
    "We will also look at search trends over the last ten years \n",
    "Finally, discourse in the news using LexusNexus \n"
   ]
  },
  {
   "cell_type": "markdown",
   "id": "2b9cf005-6238-4200-952b-9e324d2b9ea4",
   "metadata": {},
   "source": [
    "IMPORTANT KEYS & TOKENS: \n",
    "\n",
    "API KEY: wcvCG3oq2U9DyvxKg3hXtzOB6\n",
    "\n",
    "API Key Secret: 9a8WlkS6nbm4ApVYXcu8n62mCf4rsw1k9jASYYsptPc92MC8U4\n",
    "\n",
    "Bearer Token: AAAAAAAAAAAAAAAAAAAAALw3awEAAAAAiPLE5sKSIkBtEQy1IjeBwgd5R9s%3D8BA13jYK6uaJI9Ggnuw9VF08rJWrqkXApejZzpfVnYZKZgTKsV\n",
    "\n",
    "\n",
    "Access Token: 1003781740110860288-HKy6wppvMzHVbPiX32ZUyrabOoDH4L\n",
    "\n",
    "Access Token Secret: vFo5m1JfgwUguwyNchevlEQK7mdKKdBK7p0Q2BHCXsyQ6"
   ]
  },
  {
   "cell_type": "markdown",
   "id": "1dc3d20b-7b9d-4ae4-ad02-9bf2385af16f",
   "metadata": {},
   "source": [
    "Helpful link: \n",
    "https://www.postman.com/twitter/workspace/twitter-s-public-workspace/collection/9956214-784efcda-ed4c-4491-a4c0-a26470a67400?ctx=documentation\n",
    "\n",
    "Github Inspo:\n",
    "https://medium.com/@davidheffernan_99410/scraping-50-million-tweets-for-5-in-5-hours-9dca3031a734\n",
    "\n",
    "https://gist.github.com/heffo42/caaef8f2c2d32757c2247cad4714695d"
   ]
  },
  {
   "cell_type": "markdown",
   "id": "d00025e0-7ece-419e-8000-1dd427fb7851",
   "metadata": {},
   "source": [
    "RANDOM NOTES: \n",
    "FIELDS: \n",
    "\n",
    "Tweet object returns the id and text fields \n",
    "Use tweet.fields to request date or public metrics \n",
    "\n",
    "Tweet object important field values: \n",
    "- text \n",
    "- promoted metrics (use this to measure engagement for the tweet when it was promoted) \n",
    "-public metrics (use this to measure tweet engagement) \n",
    "-created_at\n",
    "-lang = eng \n",
    "\n",
    "\n",
    "User object important field values: \n",
    "-id \n",
    "-public metrics (can potentially be used to determine a twitter users reach or influence, quantify the user’s range of interests and the user’s level of engagement on Twitter.” "
   ]
  },
  {
   "cell_type": "markdown",
   "id": "24864785-1482-40b7-9939-b1b35c7ff4cc",
   "metadata": {},
   "source": [
    "For my methodology, I will collect a representative sampled stream of historical tweets by month per year, dating back to 2012 (which is when Google Trends and Endgram show Bitcoin really increasing in conversation). I will aggregate the data by month per year and will run queries to determine the overall “virality” of Bitcoin as a trending topic for each month per year. In order to do this I will leverage the search tweets functionalities an data gathered from fields such as public metrics, organic metrics and tweet count functionality to get a sum of total tweets relating to Bitcoin that month. \n",
    "This data will then be plotted across time in Tableau. \n",
    "\n",
    "After aggregating the data and quantifying how viral and trending Bitcoin is per month, using the aforementioned queries and data, I will run a variety of natural language processing models to look at specific linguistic features using Linguistic Inquiry Word Count. I will also use the Bidirectional Encoder Representations from Transformers framework (BERT) for sentiment classification and abstract summarization. If time allows, I will take my analysis one step further by using XLNET to run an auto-regressive model for natural language understanding.  I will then plot overall sentiment (positive vs negative) by month per year in Tableau. \n",
    "\n",
    "Then, by looking at Bitcoin price by month (gathered from Statista) and the tweet count/trendingness by month, I will then perform an autoregressive model and autocorrelation PCF plot to see how the abundance of discourse about Bitcoin can or might predict the price and vice versa.  I will then do the same with Bitcoin price by month and Bitcoin sentiment by month. \n",
    "\n",
    "Finally, as a qualitative analysis, I will analyze which months experience most drastic change in bitcoin conversation (sentiment and abundance of conversation) and then look through the news gathered from LexusNexus from those months to correlate it to certain events that might have occurred, and then compare to Bitcoin market cap and see if there are similar significant changes. "
   ]
  }
 ],
 "metadata": {
  "kernelspec": {
   "display_name": "Python 3 (ipykernel)",
   "language": "python",
   "name": "python3"
  },
  "language_info": {
   "codemirror_mode": {
    "name": "ipython",
    "version": 3
   },
   "file_extension": ".py",
   "mimetype": "text/x-python",
   "name": "python",
   "nbconvert_exporter": "python",
   "pygments_lexer": "ipython3",
   "version": "3.9.9"
  }
 },
 "nbformat": 4,
 "nbformat_minor": 5
}
