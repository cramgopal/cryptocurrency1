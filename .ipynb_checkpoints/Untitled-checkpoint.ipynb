{
 "cells": [
  {
   "cell_type": "markdown",
   "id": "c8662021-3574-4905-a2df-6fd255328ed1",
   "metadata": {},
   "source": [
    "GENERAL GIST:\n",
    "Online discourse surrounding bitcoin over time \n",
    "Relative to price how has discourse changed over time — price * volume since bitcoin is always mining \n",
    "Looking at twitter over ten years and aggregating tweets by month per year and measuring how often people tweeted about it, the volume of tweets, the level of engagement with it as well as try to get insight into the sentiment surrounding it) \n",
    "USE: Search tweets (filtering for tweets with bitcoin in it of a 1% representative sample), tweet count of total tweets with bitcoin per month , determine virality by looking at impressions, retweets, quoted and likes\n",
    "We will also look at search trends over the last ten years \n",
    "Finally, discourse in the news using LexusNexus "
   ]
  },
  {
   "cell_type": "markdown",
   "id": "5947a14e-054a-4ba2-b8e6-78c36316376c",
   "metadata": {},
   "source": [
    "Helpful link: \n",
    "https://www.postman.com/twitter/workspace/twitter-s-public-workspace/collection/9956214-784efcda-ed4c-4491-a4c0-a26470a67400?ctx=documentation\n",
    "\n",
    "Github Inspo:\n",
    "https://medium.com/@davidheffernan_99410/scraping-50-million-tweets-for-5-in-5-hours-9dca3031a734\n",
    "\n",
    "https://gist.github.com/heffo42/caaef8f2c2d32757c2247cad4714695d"
   ]
  },
  {
   "cell_type": "markdown",
   "id": "59e24d0c-6ac9-444e-9b80-85de4c6cb22e",
   "metadata": {},
   "source": [
    "RANDOM NOTES: \n",
    "FIELDS: \n",
    "\n",
    "Tweet object returns the id and text fields \n",
    "Use tweet.fields to request date or public metrics \n",
    "\n",
    "Tweet object important field values: \n",
    "- text \n",
    "- promoted metrics (use this to measure engagement for the tweet when it was promoted) \n",
    "-public metrics (use this to measure tweet engagement) \n",
    "-created_at\n",
    "-lang = eng \n",
    "\n",
    "\n",
    "User object important field values: \n",
    "-id \n",
    "-public metrics (can potentially be used to determine a twitter users reach or influence, quantify the user’s range of interests and the user’s level of engagement on Twitter.” \n"
   ]
  },
  {
   "cell_type": "markdown",
   "id": "322c867e-4a22-4ed7-87b8-f4c618d82aaa",
   "metadata": {},
   "source": [
    "OVERALL METHODOLOGY:\n",
    "For my methodology, I will collect a representative sampled stream of historical tweets by month per year, dating back to 2012 (which is when Google Trends and Endgram show Bitcoin really increasing in conversation). I will aggregate the data by month per year and will run queries to determine the overall “virality” of Bitcoin as a trending topic for each month per year. In order to do this I will leverage the search tweets functionalities an data gathered from fields such as public metrics, organic metrics and tweet count functionality to get a sum of total tweets relating to Bitcoin that month. \n",
    "This data will then be plotted across time in Tableau. \n",
    "\n",
    "After aggregating the data and quantifying how viral and trending Bitcoin is per month, using the aforementioned queries and data, I will run a variety of natural language processing models to look at specific linguistic features using Linguistic Inquiry Word Count. I will also use the Bidirectional Encoder Representations from Transformers framework (BERT) for sentiment classification and abstract summarization. If time allows, I will take my analysis one step further by using XLNET to run an auto-regressive model for natural language understanding.  I will then plot overall sentiment (positive vs negative) by month per year in Tableau. \n",
    "\n",
    "Then, by looking at Bitcoin price by month (gathered from Statista) and the tweet count/trendingness by month, I will then perform an autoregressive model and autocorrelation PCF plot to see how the abundance of discourse about Bitcoin can or might predict the price and vice versa.  I will then do the same with Bitcoin price by month and Bitcoin sentiment by month. \n",
    "\n",
    "Finally, as a qualitative analysis, I will analyze which months experience most drastic change in bitcoin conversation (sentiment and abundance of conversation) and then look through the news gathered from LexusNexus from those months to correlate it to certain events that might have occurred, and then compare to Bitcoin market cap and see if there are similar significant changes"
   ]
  }
 ],
 "metadata": {
  "kernelspec": {
   "display_name": "Python 3 (ipykernel)",
   "language": "python",
   "name": "python3"
  },
  "language_info": {
   "codemirror_mode": {
    "name": "ipython",
    "version": 3
   },
   "file_extension": ".py",
   "mimetype": "text/x-python",
   "name": "python",
   "nbconvert_exporter": "python",
   "pygments_lexer": "ipython3",
   "version": "3.9.9"
  }
 },
 "nbformat": 4,
 "nbformat_minor": 5
}
